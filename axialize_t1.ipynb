{
 "cells": [
  {
   "cell_type": "markdown",
   "metadata": {},
   "source": [
    "# axialize scans"
   ]
  },
  {
   "cell_type": "markdown",
   "metadata": {},
   "source": [
    "### import packages and set up"
   ]
  },
  {
   "cell_type": "code",
   "execution_count": 1,
   "metadata": {},
   "outputs": [],
   "source": [
    "from pathlib import Path\n",
    "import pandas as pd\n",
    "import numpy as np\n",
    "import re\n",
    "import pickle\n",
    "from distutils.spawn import find_executable\n",
    "pd.set_option('display.max_rows', 500)\n",
    "pd.set_option('display.max_columns', 500)\n",
    "pd.set_option('max_colwidth',500)"
   ]
  },
  {
   "cell_type": "code",
   "execution_count": 2,
   "metadata": {},
   "outputs": [
    {
     "name": "stdout",
     "output_type": "stream",
     "text": [
      "/Users/rodgersleejg/Downloads/euler_number_prediction\n"
     ]
    },
    {
     "data": {
      "text/plain": [
       "'/Users/rodgersleejg/Downloads/euler_number_prediction'"
      ]
     },
     "execution_count": 2,
     "metadata": {},
     "output_type": "execute_result"
    }
   ],
   "source": [
    "analysis_version = \"2018_07_03\"\n",
    "project_dir_absolute = Path('~/Downloads/euler_number_prediction').expanduser()\n",
    "%pwd\n",
    "%cd {project_dir_absolute}\n",
    "%pwd"
   ]
  },
  {
   "cell_type": "code",
   "execution_count": 3,
   "metadata": {},
   "outputs": [
    {
     "data": {
      "text/plain": [
       "PosixPath('/Users/rodgersleejg/abin/afni')"
      ]
     },
     "execution_count": 3,
     "metadata": {},
     "output_type": "execute_result"
    }
   ],
   "source": [
    "Path(find_executable('afni'))"
   ]
  },
  {
   "cell_type": "code",
   "execution_count": 4,
   "metadata": {},
   "outputs": [],
   "source": [
    "orig_scans  = project_dir_absolute / 'orig_scans'\n",
    "output_dir = project_dir_absolute / 'axialized_scans'\n",
    "afni_dir = Path('~').expanduser() / 'abin'\n",
    "if not afni_dir.exists():\n",
    "\n",
    "        afni_path = Path(find_executable('afni'))\n",
    "        if not afni_path.exists():\n",
    "            raise EnvironmentError\n",
    "        else: \n",
    "            afni_dir = afni_path.parent"
   ]
  },
  {
   "cell_type": "markdown",
   "metadata": {},
   "source": [
    "### Create template"
   ]
  },
  {
   "cell_type": "code",
   "execution_count": 5,
   "metadata": {},
   "outputs": [
    {
     "name": "stdout",
     "output_type": "stream",
     "text": [
      "/Users/rodgersleejg/Downloads/euler_number_prediction/template_dir\n",
      "rm: {mask}: No such file or directory\n",
      "rm: {sub_weight_template}: No such file or directory\n",
      "rm: {mask}: No such file or directory\n",
      "rm: ELL.nii: No such file or directory\n",
      "rm: ELLBLUR.nii: No such file or directory\n",
      "rm: output_mask*: No such file or directory\n",
      "++ 3dcalc: AFNI version=AFNI_18.2.04 (Jul  6 2018) [64-bit]\n",
      "++ Authored by: A cast of thousands\n",
      "\u001b[7m*+ WARNING:\u001b[0m input 'a' is not used in the expression\n",
      "++ Symbol x using predefined value\n",
      "++ Symbol y using predefined value\n",
      "++ Symbol z using predefined value\n",
      "++ Output dataset ./ELL.nii\n",
      "Program 3dmerge \n",
      "++ 3dmerge: AFNI version=AFNI_18.2.04 (Jul  6 2018) [64-bit]\n",
      "3dmerge: edit and combine 3D datasets, by RW Cox\n",
      "++ default -1dindex = 0\n",
      "++ default -1tindex = 1\n",
      "++ editing input dataset in memory (32.5 MB)\n",
      ".\n",
      "-- Wrote edited dataset: ./ELLBLUR.nii\n",
      "++ 3dcalc: AFNI version=AFNI_18.2.04 (Jul  6 2018) [64-bit]\n",
      "++ Authored by: A cast of thousands\n",
      "++ Output dataset /Users/rodgersleejg/Downloads/euler_number_prediction/template_dir/MNI152_T1_2009c_wtell+tlrc.BRIK\n"
     ]
    }
   ],
   "source": [
    "template_dir = project_dir_absolute / 'template_dir'\n",
    "if not template_dir.exists():\n",
    "    template_dir.mkdir()\n",
    "template_glob = 'MNI152_T1_2009c+tlrc.*'\n",
    "input_template = template_dir / 'MNI152_T1_2009c+tlrc.BRIK'\n",
    "mask = template_dir / 'output_mask+tlrc.BRIK.gz'\n",
    "\n",
    "%cd {template_dir}\n",
    "!rm {mask} {sub_weight_template} {mask} ELL.nii ELLBLUR.nii output_mask*\n",
    "! cp {afni_dir /template_glob} {template_dir};cd {template_dir}; gunzip -f {template_glob + 'gz'}\n",
    "\n",
    "# Generate template brainmask\n",
    "# !3dAutomask -dilate 1 -prefix {mask.name.split('+')[0]} {input_template.name}\n",
    "\n",
    "# Generate ellipsoid\n",
    "eli_cmd = f\"3dcalc -a {input_template} -expr 'step((1-(x-0)*(x-0)/(30**2)-(y-9)*(y-9)/(50**2)-(z-2)*(z-2)/(30**2)))' -prefix ELL.nii -float\"\n",
    "!{eli_cmd}\n",
    "!3dmerge -1blur_rms 4.2 -prefix ELLBLUR.nii ELL.nii\n",
    "\n",
    "# Make sub-cortical weighted template\n",
    "sub_weight_template = input_template.as_posix().replace('+tlrc','_wtell+tlrc')\n",
    "!3dcalc -a {input_template} -b ELLBLUR.nii -expr 'a*(1+5*b)' -prefix {sub_weight_template}"
   ]
  },
  {
   "cell_type": "markdown",
   "metadata": {},
   "source": [
    "### Axialize example"
   ]
  },
  {
   "cell_type": "code",
   "execution_count": 6,
   "metadata": {},
   "outputs": [],
   "source": [
    "scans = pd.DataFrame({'scan_path':[p.as_posix() for p in orig_scans.glob('*.nii.gz')]})"
   ]
  },
  {
   "cell_type": "code",
   "execution_count": 7,
   "metadata": {},
   "outputs": [
    {
     "data": {
      "text/html": [
       "<div>\n",
       "<style scoped>\n",
       "    .dataframe tbody tr th:only-of-type {\n",
       "        vertical-align: middle;\n",
       "    }\n",
       "\n",
       "    .dataframe tbody tr th {\n",
       "        vertical-align: top;\n",
       "    }\n",
       "\n",
       "    .dataframe thead th {\n",
       "        text-align: right;\n",
       "    }\n",
       "</style>\n",
       "<table border=\"1\" class=\"dataframe\">\n",
       "  <thead>\n",
       "    <tr style=\"text-align: right;\">\n",
       "      <th></th>\n",
       "      <th>scan_path</th>\n",
       "    </tr>\n",
       "  </thead>\n",
       "  <tbody>\n",
       "    <tr>\n",
       "      <th>0</th>\n",
       "      <td>/Users/rodgersleejg/Downloads/euler_number_prediction/orig_scans/sub-1289_ses-1_acq-mprage_run-001_T1w.nii.gz</td>\n",
       "    </tr>\n",
       "    <tr>\n",
       "      <th>1</th>\n",
       "      <td>/Users/rodgersleejg/Downloads/euler_number_prediction/orig_scans/sub-0414_ses-1_acq-mprage_run-002_T1w.nii.gz</td>\n",
       "    </tr>\n",
       "    <tr>\n",
       "      <th>2</th>\n",
       "      <td>/Users/rodgersleejg/Downloads/euler_number_prediction/orig_scans/sub-1223_ses-1_acq-mprage_run-001_T1w.nii.gz</td>\n",
       "    </tr>\n",
       "    <tr>\n",
       "      <th>3</th>\n",
       "      <td>/Users/rodgersleejg/Downloads/euler_number_prediction/orig_scans/sub-1360_ses-1_acq-mprage_run-002_T1w.nii.gz</td>\n",
       "    </tr>\n",
       "    <tr>\n",
       "      <th>4</th>\n",
       "      <td>/Users/rodgersleejg/Downloads/euler_number_prediction/orig_scans/sub-1491_ses-1_acq-mprage_run-002_T1w.nii.gz</td>\n",
       "    </tr>\n",
       "  </tbody>\n",
       "</table>\n",
       "</div>"
      ],
      "text/plain": [
       "                                                                                                       scan_path\n",
       "0  /Users/rodgersleejg/Downloads/euler_number_prediction/orig_scans/sub-1289_ses-1_acq-mprage_run-001_T1w.nii.gz\n",
       "1  /Users/rodgersleejg/Downloads/euler_number_prediction/orig_scans/sub-0414_ses-1_acq-mprage_run-002_T1w.nii.gz\n",
       "2  /Users/rodgersleejg/Downloads/euler_number_prediction/orig_scans/sub-1223_ses-1_acq-mprage_run-001_T1w.nii.gz\n",
       "3  /Users/rodgersleejg/Downloads/euler_number_prediction/orig_scans/sub-1360_ses-1_acq-mprage_run-002_T1w.nii.gz\n",
       "4  /Users/rodgersleejg/Downloads/euler_number_prediction/orig_scans/sub-1491_ses-1_acq-mprage_run-002_T1w.nii.gz"
      ]
     },
     "execution_count": 7,
     "metadata": {},
     "output_type": "execute_result"
    }
   ],
   "source": [
    "scans.head()\n"
   ]
  },
  {
   "cell_type": "code",
   "execution_count": 8,
   "metadata": {},
   "outputs": [
    {
     "data": {
      "text/plain": [
       "'/Users/rodgersleejg/Downloads/euler_number_prediction/orig_scans/sub-1289_ses-1_acq-mprage_run-001_T1w.nii.gz'"
      ]
     },
     "execution_count": 8,
     "metadata": {},
     "output_type": "execute_result"
    }
   ],
   "source": [
    "scan_path = scans.scan_path.iloc[0]\n",
    "\n",
    "scan_path"
   ]
  },
  {
   "cell_type": "code",
   "execution_count": 9,
   "metadata": {},
   "outputs": [],
   "source": [
    "def make_fatproc_cmd(scan_path,input_template,output_dir=None,sub_weight_template = None, project_dir_absolute = Path.cwd()):\n",
    "    if not output_dir:\n",
    "        output_dir = project_dir_absolute / 'axialized_scans'\n",
    "    if not output_dir.exists():\n",
    "        output_dir.mkdir()\n",
    "        \n",
    "    cmd = f\"\"\"\\\n",
    "    fat_proc_axialize_anat\\\n",
    "        -inset  {scan_path}\\\n",
    "        -prefix {output_dir / Path(scan_path).name.split('.')[0]}\\\n",
    "        -mode_t1w\\\n",
    "        -refset          {input_template}\\\n",
    "        -out_match_ref \\\n",
    "        \"\"\"\n",
    "    \n",
    "    if sub_weight_template:\n",
    "        cmd += f' -extra_al_wtmask {sub_weight_template}'\n",
    "    return cmd"
   ]
  },
  {
   "cell_type": "code",
   "execution_count": 10,
   "metadata": {},
   "outputs": [],
   "source": [
    "cmd = make_fatproc_cmd(scan_path,input_template,sub_weight_template=sub_weight_template)"
   ]
  },
  {
   "cell_type": "code",
   "execution_count": 11,
   "metadata": {},
   "outputs": [
    {
     "name": "stdout",
     "output_type": "stream",
     "text": [
      "++ Start script version: 4.1\n",
      "++ 3dinfo: AFNI version=AFNI_18.2.04 (Jul  6 2018) [64-bit]\n",
      "** AFNI converts NIFTI_datatype=4 (INT16) in file /Users/rodgersleejg/Downloads/euler_number_prediction/orig_scans/sub-1289_ses-1_acq-mprage_run-001_T1w.nii.gz to FLOAT32\n",
      "     Warnings of this type will be muted for this session.\n",
      "     Set AFNI_NIFTI_TYPE_WARN to YES to see them all, NO to see none.\n",
      "118\n",
      "++ 3dinfo: AFNI version=AFNI_18.2.04 (Jul  6 2018) [64-bit]\n",
      "** AFNI converts NIFTI_datatype=4 (INT16) in file /Users/rodgersleejg/Downloads/euler_number_prediction/orig_scans/sub-1289_ses-1_acq-mprage_run-001_T1w.nii.gz to FLOAT32\n",
      "     Warnings of this type will be muted for this session.\n",
      "     Set AFNI_NIFTI_TYPE_WARN to YES to see them all, NO to see none.\n",
      "++ Found input file:   /Users/rodgersleejg/Downloads/euler_number_prediction/orig_scans/sub-1289_ses-1_acq-mprage_run-001_T1w.nii.gz\n",
      "++ 3dinfo: AFNI version=AFNI_18.2.04 (Jul  6 2018) [64-bit]\n",
      "++ Found input file:   /Users/rodgersleejg/Downloads/euler_number_prediction/template_dir/MNI152_T1_2009c+tlrc.BRIK\n",
      "++ 3dinfo: AFNI version=AFNI_18.2.04 (Jul  6 2018) [64-bit]\n",
      "++ Found input file:   /Users/rodgersleejg/Downloads/euler_number_prediction/template_dir/MNI152_T1_2009c_wtell+tlrc.BRIK\n",
      "** AFNI converts NIFTI_datatype=4 (INT16) in file /Users/rodgersleejg/Downloads/euler_number_prediction/orig_scans/sub-1289_ses-1_acq-mprage_run-001_T1w.nii.gz to FLOAT32\n",
      "     Warnings of this type will be muted for this session.\n",
      "     Set AFNI_NIFTI_TYPE_WARN to YES to see them all, NO to see none.\n",
      "** AFNI converts NIFTI_datatype=4 (INT16) in file /Users/rodgersleejg/Downloads/euler_number_prediction/orig_scans/sub-1289_ses-1_acq-mprage_run-001_T1w.nii.gz to FLOAT32\n",
      "     Warnings of this type will be muted for this session.\n",
      "     Set AFNI_NIFTI_TYPE_WARN to YES to see them all, NO to see none.\n",
      "** AFNI converts NIFTI_datatype=4 (INT16) in file /Users/rodgersleejg/Downloads/euler_number_prediction/orig_scans/sub-1289_ses-1_acq-mprage_run-001_T1w.nii.gz to FLOAT32\n",
      "     Warnings of this type will be muted for this session.\n",
      "     Set AFNI_NIFTI_TYPE_WARN to YES to see them all, NO to see none.\n",
      "\n",
      "++ Based on prefix, the output directory will be:\n",
      "     /Users/rodgersleejg/Downloads/euler_number_prediction/template_dir/axialized_scans\n",
      "++ Based on prefix, the output prefix will be:\n",
      "     sub-1289_ses-1_acq-mprage_run-001_T1w\n",
      "\n",
      "++ Making working directory: /Users/rodgersleejg/Downloads/euler_number_prediction/template_dir/axialized_scans/__WORKING_axialize_anat_sub-1289_ses-1_acq-mprage_run-001_T1w\n",
      "\\n-----> STARTING ---->\n",
      "\\n\\nThis command:\n",
      "fat_proc_axialize_anat -inset /Users/rodgersleejg/Downloads/euler_number_prediction/orig_scans/sub-1289_ses-1_acq-mprage_run-001_T1w.nii.gz -prefix /Users/rodgersleejg/Downloads/euler_number_prediction/template_dir/axialized_scans/sub-1289_ses-1_acq-mprage_run-001_T1w -mode_t1w -refset /Users/rodgersleejg/Downloads/euler_number_prediction/template_dir/MNI152_T1_2009c+tlrc.BRIK -out_match_ref -extra_al_wtmask /Users/rodgersleejg/Downloads/euler_number_prediction/template_dir/MNI152_T1_2009c_wtell+tlrc.BRIK\\n\\n\n",
      "++ Echoing the command to: /Users/rodgersleejg/Downloads/euler_number_prediction/template_dir/axialized_scans/sub-1289_ses-1_acq-mprage_run-001_T1w_cmd.txt\n",
      "\\nThe reference template is: /Users/rodgersleejg/Downloads/euler_number_prediction/template_dir/MNI152_T1_2009c+tlrc.BRIK\n",
      "\n",
      "+++ Command Echo:\n",
      "   3dresample -orient LPI -prefix /Users/rodgersleejg/Downloads/euler_number_prediction/template_dir/axialized_scans/__WORKING_axialize_anat_sub-1289_ses-1_acq-mprage_run-001_T1w/REF.nii -inset /Users/rodgersleejg/Downloads/euler_number_prediction/template_dir/MNI152_T1_2009c+tlrc.BRIK -overwrite \n",
      "\n",
      "\n",
      "+++ Command Echo:\n",
      "   3drefit -space ORIG -view orig /Users/rodgersleejg/Downloads/euler_number_prediction/template_dir/axialized_scans/__WORKING_axialize_anat_sub-1289_ses-1_acq-mprage_run-001_T1w/REF.nii \n",
      "\n",
      "++ 3drefit: AFNI version=AFNI_18.2.04 (Jul  6 2018) [64-bit]\n",
      "++ Authored by: RW Cox\n",
      "++ Processing AFNI dataset /Users/rodgersleejg/Downloads/euler_number_prediction/template_dir/axialized_scans/__WORKING_axialize_anat_sub-1289_ses-1_acq-mprage_run-001_T1w/REF.nii\n",
      "\u001b[7m*+ WARNING:\u001b[0m Changing the space of a TLRC view dataset to an ORIG type may cause confusion!\n",
      "\u001b[7m*+ WARNING:\u001b[0m  NIFTI copies will be interpreted as ORIG view.\n",
      "\u001b[7m*+ WARNING:\u001b[0m  Consider changing the view of the dataset to ORIG view also\n",
      " + changing dataset view code\n",
      " + loading and re-writing dataset /Users/rodgersleejg/Downloads/euler_number_prediction/template_dir/axialized_scans/__WORKING_axialize_anat_sub-1289_ses-1_acq-mprage_run-001_T1w/REF.nii (/Users/rodgersleejg/Downloads/euler_number_prediction/template_dir/axialized_scans/__WORKING_axialize_anat_sub-1289_ses-1_acq-mprage_run-001_T1w/REF.nii in NIFTI storage)\n",
      "++ 3drefit processed 1 datasets\n",
      "\n",
      "+++ Command Echo:\n",
      "   3dresample -orient LPI -prefix /Users/rodgersleejg/Downloads/euler_number_prediction/template_dir/axialized_scans/__WORKING_axialize_anat_sub-1289_ses-1_acq-mprage_run-001_T1w/REF_WT.nii -inset /Users/rodgersleejg/Downloads/euler_number_prediction/template_dir/MNI152_T1_2009c_wtell+tlrc.BRIK -overwrite \n",
      "\n",
      "\n",
      "+++ Command Echo:\n",
      "   3drefit -space ORIG -view orig /Users/rodgersleejg/Downloads/euler_number_prediction/template_dir/axialized_scans/__WORKING_axialize_anat_sub-1289_ses-1_acq-mprage_run-001_T1w/REF_WT.nii \n",
      "\n",
      "++ 3drefit: AFNI version=AFNI_18.2.04 (Jul  6 2018) [64-bit]\n",
      "++ Authored by: RW Cox\n",
      "** AFNI converts NIFTI_datatype=2 (UINT8) in file /Users/rodgersleejg/Downloads/euler_number_prediction/template_dir/axialized_scans/__WORKING_axialize_anat_sub-1289_ses-1_acq-mprage_run-001_T1w/REF_WT.nii to FLOAT32\n",
      "     Warnings of this type will be muted for this session.\n",
      "     Set AFNI_NIFTI_TYPE_WARN to YES to see them all, NO to see none.\n",
      "++ Processing AFNI dataset /Users/rodgersleejg/Downloads/euler_number_prediction/template_dir/axialized_scans/__WORKING_axialize_anat_sub-1289_ses-1_acq-mprage_run-001_T1w/REF_WT.nii\n",
      "\u001b[7m*+ WARNING:\u001b[0m Changing the space of a TLRC view dataset to an ORIG type may cause confusion!\n",
      "\u001b[7m*+ WARNING:\u001b[0m  NIFTI copies will be interpreted as ORIG view.\n",
      "\u001b[7m*+ WARNING:\u001b[0m  Consider changing the view of the dataset to ORIG view also\n",
      " + changing dataset view code\n",
      " + loading and re-writing dataset /Users/rodgersleejg/Downloads/euler_number_prediction/template_dir/axialized_scans/__WORKING_axialize_anat_sub-1289_ses-1_acq-mprage_run-001_T1w/REF_WT.nii (/Users/rodgersleejg/Downloads/euler_number_prediction/template_dir/axialized_scans/__WORKING_axialize_anat_sub-1289_ses-1_acq-mprage_run-001_T1w/REF_WT.nii in NIFTI storage)\n",
      "++ 3drefit processed 1 datasets\n",
      "\n",
      "+++ Command Echo:\n",
      "   3dcalc -a /Users/rodgersleejg/Downloads/euler_number_prediction/orig_scans/sub-1289_ses-1_acq-mprage_run-001_T1w.nii.gz -expr a -prefix /Users/rodgersleejg/Downloads/euler_number_prediction/template_dir/axialized_scans/__WORKING_axialize_anat_sub-1289_ses-1_acq-mprage_run-001_T1w/tt_00.nii -float -overwrite \n",
      "\n",
      "++ 3dcalc: AFNI version=AFNI_18.2.04 (Jul  6 2018) [64-bit]\n",
      "++ Authored by: A cast of thousands\n",
      "** AFNI converts NIFTI_datatype=4 (INT16) in file /Users/rodgersleejg/Downloads/euler_number_prediction/orig_scans/sub-1289_ses-1_acq-mprage_run-001_T1w.nii.gz to FLOAT32\n",
      "     Warnings of this type will be muted for this session.\n",
      "     Set AFNI_NIFTI_TYPE_WARN to YES to see them all, NO to see none.\n",
      "++ Output dataset /Users/rodgersleejg/Downloads/euler_number_prediction/template_dir/axialized_scans/__WORKING_axialize_anat_sub-1289_ses-1_acq-mprage_run-001_T1w/tt_00.nii\n",
      "++ Distance between input's center of mass to (0,0,0) is 21.70041 mm.\n",
      "   -> if this is large, you might want to recenter with:\n",
      "        3dCM -set 0 0 0 FILE\n",
      "      or something (you could copy it first).\n",
      "\\n\\n++ Threshold value at 90%: 3119.042480\\n\n",
      "\n",
      "+++ Command Echo:\n",
      "   3dcalc -a tt_00.nii -expr maxbelow(3119.042480,a) -prefix tt_01_thr.nii -overwrite \n",
      "\n",
      "++ 3dcalc: AFNI version=AFNI_18.2.04 (Jul  6 2018) [64-bit]\n",
      "++ Authored by: A cast of thousands\n",
      "++ Output dataset ./tt_01_thr.nii\n",
      "\\n++ Doing unifizing.\n",
      "\n",
      "+++ Command Echo:\n",
      "   3dUnifize -echo_edu -GM -prefix tt_02_uni.nii -input tt_01_thr.nii -overwrite \n",
      "\n",
      "\n",
      "+++ Command Echo:\n",
      "   3dUnifize -echo_edu -GM -prefix tt_02_uni.nii -input tt_01_thr.nii -overwrite \n",
      "\n",
      "++ 3dUnifize: AFNI version=AFNI_18.2.04 (Jul  6 2018) [64-bit]\n",
      " + Pre-processing: ADV........UWG\n",
      "++ Output dataset ./tt_02_uni.nii\n",
      "++ ===== CPU time = 75.6 sec  Elapsed = 38.5\n",
      "\\n\\n++ Percentile for thresholding: 1171.252808\\n\n",
      "\n",
      "+++ Command Echo:\n",
      "   3dcalc -a tt_02_uni.nii -expr maxbelow(1171.252808,a) -prefix tt_03_thr2.nii -overwrite \n",
      "\n",
      "++ 3dcalc: AFNI version=AFNI_18.2.04 (Jul  6 2018) [64-bit]\n",
      "++ Authored by: A cast of thousands\n",
      "++ Output dataset ./tt_03_thr2.nii\n",
      "++ processing tt_03_thr2.nii ...\n",
      "\n",
      "+++ Command Echo:\n",
      "   3dAllineate -1Dmatrix_save _map_lr6 -warp shift_rotate -prefix tt_05_LR6.nii -base tt_04_LRflip.nii -twopass -cost nmi -source tt_03_thr2.nii -overwrite \n",
      "\n",
      "++ 3dAllineate: AFNI version=AFNI_18.2.04 (Jul  6 2018) [64-bit]\n",
      "++ Authored by: Zhark the Registrator\n",
      "++ Source dataset: ./tt_03_thr2.nii\n",
      "++ Base dataset:   ./tt_04_LRflip.nii\n",
      "++ Loading datasets\n",
      "++ 2682796 voxels in source_automask+0\n",
      "++ Zero-pad: zbot=4 ztop=4\n",
      "++ Computing -autobox\n",
      "++ 6203484 voxels [74.0%] in weight mask\n",
      "++ Number of points for matching = 2915637\n",
      "++ master dataset for output = base\n",
      "++ OpenMP thread count = 4\n",
      "++ ======= Allineation of 1 sub-bricks using Normalized MI [H(b,s)/(H(b)+H(s))] =======\n",
      "++ *** Coarse pass begins ***\n",
      "++ *** Fine pass begins ***\n",
      " + Final fine fit Parameters:\n",
      "       x-shift= 5.4525   y-shift= 0.0398   z-shift=-0.0949\n",
      "       z-angle= 3.9209   x-angle= 0.2207   y-angle= 6.0483\n",
      "++ Output dataset ./tt_05_LR6.nii\n",
      "++ Wrote -1Dmatrix_save _map_lr6.aff12.1D\n",
      "++ 3dAllineate: total CPU time = 357.8 sec  Elapsed = 253.8\n",
      "++ ###########################################################\n",
      "++ #   Please check results visually for alignment quality   #\n",
      "++ ###########################################################\n",
      "\n",
      "+++ Command Echo:\n",
      "   3dAllineate -1Dmatrix_apply _map_lr_half.aff12.1D -prefix tt_06_LRmid.nii -source tt_03_thr2.nii -final wsinc5 -overwrite \n",
      "\n",
      "++ 3dAllineate: AFNI version=AFNI_18.2.04 (Jul  6 2018) [64-bit]\n",
      "++ Authored by: Zhark the Registrator\n",
      "++ Source dataset: ./tt_03_thr2.nii\n",
      "++ Base dataset:   (not given)\n",
      "++ You might want to use '-master' when using '-1D*_apply'\n",
      "++ Loading datasets\n",
      "++ master dataset for output = source\n",
      "++ OpenMP thread count = 4\n",
      "++ ========== Applying transformation to 1 sub-bricks ==========\n",
      "++ wsinc5 interpolation setup:\n",
      " +   taper function  = Min sidelobe 3 term\n",
      " +   taper cut point = 0.000\n",
      " +   window radius   = 5 voxels\n",
      " +   window shape    = Cubical\n",
      " +   The above can be altered via the AFNI_WSINC5_* environment variables.\n",
      " +  (To avoid this message, 'setenv AFNI_WSINC5_SILENT YES'.)\n",
      " +   wsinc5 CUBE(5) mask has 1000 points\n",
      "++ Output dataset ./tt_06_LRmid.nii\n",
      "++ 3dAllineate: total CPU time = 20.2 sec  Elapsed = 9.3\n",
      "++ ###########################################################\n",
      "++ New inp0 = tt_07_origLR.nii\n",
      "\n",
      "+++ Command Echo:\n",
      "   3dAllineate -1Dmatrix_apply _map_lr_half.aff12.1D -prefix tt_07_origLR.nii -source tt_00.nii -final wsinc5 -overwrite \n",
      "\n",
      "++ 3dAllineate: AFNI version=AFNI_18.2.04 (Jul  6 2018) [64-bit]\n",
      "++ Authored by: Zhark the Registrator\n",
      "++ Source dataset: ./tt_00.nii\n",
      "++ Base dataset:   (not given)\n",
      "++ You might want to use '-master' when using '-1D*_apply'\n",
      "++ Loading datasets\n",
      "++ master dataset for output = source\n",
      "++ OpenMP thread count = 4\n",
      "++ ========== Applying transformation to 1 sub-bricks ==========\n",
      "++ wsinc5 interpolation setup:\n",
      " +   taper function  = Min sidelobe 3 term\n",
      " +   taper cut point = 0.000\n",
      " +   window radius   = 5 voxels\n",
      " +   window shape    = Cubical\n",
      " +   The above can be altered via the AFNI_WSINC5_* environment variables.\n",
      " +  (To avoid this message, 'setenv AFNI_WSINC5_SILENT YES'.)\n",
      " +   wsinc5 CUBE(5) mask has 1000 points\n",
      "++ Output dataset ./tt_07_origLR.nii\n",
      "++ 3dAllineate: total CPU time = 20.4 sec  Elapsed = 10.5\n",
      "++ ###########################################################\n",
      "++ Aligning center of inset -> refset.\n",
      "\u001b[7m*+ WARNING:\u001b[0m Over-writing dataset ./tt_06_LRmid.nii\n",
      "++ Wrote new dataset: ./tt_06_LRmid.nii\n",
      "base: 0.149033 21.914 9.8387\n",
      "dset: 4.3056 -20.6361 6.57137\n",
      "delta: -4.156567 42.550100 3.267330\n",
      "4.156567 -42.550100 3.267330\n",
      "++ 3drefit: AFNI version=AFNI_18.2.04 (Jul  6 2018) [64-bit]\n",
      "++ Authored by: RW Cox\n",
      "++ Processing AFNI dataset ./tt_07_origLR.nii\n",
      " + deoblique\n",
      " + loading and re-writing dataset ./tt_07_origLR.nii (./tt_07_origLR.nii in NIFTI storage)\n",
      "++ 3drefit processed 1 datasets\n",
      "\n",
      "+++ Command Echo:\n",
      "   3dAllineate -1Dparam_save _map_9dof -warp shift_rotate_scale -prefix tt_08_alnd.nii -base REF.nii -twopass -source_automask -weight REF_WT.nii -wtprefix tt_08_wtmask.nii -cost lpa -source tt_06_LRmid.nii -overwrite \n",
      "\n",
      "++ 3dAllineate: AFNI version=AFNI_18.2.04 (Jul  6 2018) [64-bit]\n",
      "++ Authored by: Zhark the Registrator\n",
      "++ Source dataset: ./tt_06_LRmid.nii\n",
      "++ Base dataset:   ./REF.nii\n",
      "++ Loading datasets\n",
      "++ 2677987 voxels in -source_automask\n",
      "++ Zero-pad: not needed\n",
      "++ 1886574 voxels [22.1%] in weight mask\n",
      "++ Output dataset ./tt_08_wtmask.nii\n",
      "++ Number of points for matching = 886689\n",
      "++ Local correlation: blok type = 'RHDD(6.54321)'\n",
      "++ master dataset for output = base\n",
      "++ OpenMP thread count = 4\n",
      "++ ======= Allineation of 1 sub-bricks using Local Pearson Correlation Abs =======\n",
      "++ *** Coarse pass begins ***\n",
      "++ *** Fine pass begins ***\n",
      " + Final fine fit Parameters:\n",
      "       x-shift= 0.1333   y-shift= 7.8334   z-shift=16.1603\n",
      "       z-angle= 1.3263   x-angle=22.2711   y-angle= 1.0303\n",
      "       x-scale= 0.8949   y-scale= 0.8970   z-scale= 0.8330\n",
      "++ Output dataset ./tt_08_alnd.nii\n",
      "++ Wrote -1Dparam_save _map_9dof.param.1D\n",
      "++ 3dAllineate: total CPU time = 125.2 sec  Elapsed = 76.0\n",
      "++ ###########################################################\n",
      "++ #   Please check results visually for alignment quality   #\n",
      "++ ###########################################################\n",
      "++ #   '-autoweight' is recommended when using -lpc or -lpa  #\n",
      "++ #   If your results are not good, please try again.       #\n",
      "++ ###########################################################\n",
      "\n",
      "+++ Command Echo:\n",
      "   3dAllineate -1Dparam_apply map_fake12dof.param.1D -prefix tt_09_alnd0.nii -source tt_07_origLR.nii -final wsinc5 -master REF.nii -overwrite \n",
      "\n",
      "++ 3dAllineate: AFNI version=AFNI_18.2.04 (Jul  6 2018) [64-bit]\n",
      "++ Authored by: Zhark the Registrator\n",
      "++ Source dataset: ./tt_07_origLR.nii\n",
      "++ Base dataset:   (not given)\n",
      "++ Loading datasets\n",
      "++ OpenMP thread count = 4\n",
      "++ ========== Applying transformation to 1 sub-bricks ==========\n",
      "++ wsinc5 interpolation setup:\n",
      " +   taper function  = Min sidelobe 3 term\n",
      " +   taper cut point = 0.000\n",
      " +   window radius   = 5 voxels\n",
      " +   window shape    = Cubical\n",
      " +   The above can be altered via the AFNI_WSINC5_* environment variables.\n",
      " +  (To avoid this message, 'setenv AFNI_WSINC5_SILENT YES'.)\n",
      " +   wsinc5 CUBE(5) mask has 1000 points\n",
      "++ Output dataset ./tt_09_alnd0.nii\n",
      "++ 3dAllineate: total CPU time = 16.4 sec  Elapsed = 6.8\n",
      "++ ###########################################################\n",
      "\n",
      "+++ Command Echo:\n",
      "   3dcalc -overwrite -a tt_09_alnd0.nii -expr a -prefix ../sub-1289_ses-1_acq-mprage_run-001_T1w.nii.gz \n",
      "\n",
      "++ 3dcalc: AFNI version=AFNI_18.2.04 (Jul  6 2018) [64-bit]\n",
      "++ Authored by: A cast of thousands\n",
      "++ Output dataset ./../sub-1289_ses-1_acq-mprage_run-001_T1w.nii.gz\n",
      "++ Making QC images.\n",
      "++ QC image 00 (final output ulay): sub-1289_ses-1_acq-mprage_run-001_T1w_qc_xlzd\n",
      "++ My command:\n",
      "   @chauffeur_afni -ulay ../sub-1289_ses-1_acq-mprage_run-001_T1w.nii.gz -prefix ../QC/sub-1289_ses-1_acq-mprage_run-001_T1w_qc_xlzd -montx 3 -monty 3 -set_xhairs MULTI -label_mode 1 -label_size 3 -do_clean\n",
      "\\n------------------ start of optionizing ------------------\\n\n",
      "+* Noting: you did NOT provide an overlay, and yet\n",
      "           you did NOT turn off the overlay with '-olay_off'\n",
      "       --> so I assume you just want to view the underlay.\n",
      "++ Using blowup factor: 2\n",
      "++ Using opacity:  6\n",
      "++ Making temporary work directory to copy vis files: ../QC/__tmp_chauf_KNdIXz93qF9\n",
      "++ Copying ulay to visualize between 2%-98% (volumetric):\n",
      "   [0.000000,4073.083008]\n",
      "++ 3dcalc: AFNI version=AFNI_18.2.04 (Jul  6 2018) [64-bit]\n",
      "++ Authored by: A cast of thousands\n",
      "++ Output dataset ./../QC/__tmp_chauf_KNdIXz93qF9/tmp_ulay.nii\n",
      "++ No overlay viewing\n",
      "++ Cryptic info: LPI -> L P I -> 1 2 3\n",
      "++ Dimensions (xyzt): 193 229 193 1\n",
      "++ Slice spacing ordered (x,y,z) is:  21 25 21\n",
      "++ pfrac = .50000\n",
      "++ Will have: SET_IJK 96 114 96\n",
      "\\n------------------- end of optionizing -------------------\\n\n",
      " -- trying to start Xvfb :789\n",
      "[1] 45632\n",
      "Precompiled binary macosx_10.7_local: Jul  6 2018 (Version AFNI_18.2.04)\n",
      "\n",
      "+++ Command Echo:\n",
      "   afni -noplugins -no_detach -com SWITCH_UNDERLAY tmp_ulay.nii -com SWITCH_OVERLAY  tmp_ulay.nii -com SEE_OVERLAY     - -com SET_PBAR_ALL    -99 1 Plasma -com SET_SUBBRICKS   -1 -1 -1 -com SET_FUNC_RANGE  0 -com SET_THRESHNEW   0. * -com SET_FUNC_ALPHA  Off  -com SET_FUNC_RESAM  NN.NN -com SET_XHAIRS  MULTI -com OPEN_WINDOW sagittalimage opacity=6 mont=3x3:21 crop=0:0,0:0 -com OPEN_WINDOW coronalimage  opacity=6 mont=3x3:25 crop=0:0,0:0 -com OPEN_WINDOW axialimage    opacity=6 mont=3x3:21 crop=0:0,0:0 -com SET_IJK 96 114 96 -com SAVE_PNG sagittalimage ../QC/sub-1289_ses-1_acq-mprage_run-001_T1w_qc_xlzd.sag blowup=2 -com SAVE_PNG coronalimage  ../QC/sub-1289_ses-1_acq-mprage_run-001_T1w_qc_xlzd.cor blowup=2 -com SAVE_PNG axialimage    ../QC/sub-1289_ses-1_acq-mprage_run-001_T1w_qc_xlzd.axi blowup=2 -com QUITT ../QC/__tmp_chauf_KNdIXz93qF9 \n",
      "\n",
      "\n",
      "Thanks go to A Martin for much encouragement\n",
      "\n",
      "Initializing: X11\n",
      "++ If you are using XQuartz 2.7.10 (or later), and AFNI crashes when\n",
      " + opening windows, or you cannot type text into AFNI popup windows,\n",
      " + you might need to set an environment variable to solve this problem:\n",
      " +   setenv DYLD_LIBRARY_PATH /opt/X11/lib/flat_namespace\n",
      " + This command is best put in your startup ~/.cshrc file, so that\n",
      " + it will be invoked for every (t)csh shell you open.\n",
      "\n",
      "[The X.Org Foundation v 11804000].. Widgets...... Input files:\n",
      " session #  1  = QC/__tmp_chauf_KNdIXz93qF9/ ==> 1 dataset \n",
      " dataset count = 1\n",
      " Time series   = 5 files read\n",
      " Plugins       = 0 libraries read\n",
      "++ AFNI_IMAGE_GLOBALRANGE is no longer slice-based ==> reset image range to 0 .. 4073.08\n",
      "++ Writing one 1374x1158 image to filter '/usr/local/bin/pnmtopng -compression 9 > ../QC/sub-1289_ses-1_acq-mprage_run-001_T1w_qc_xlzd.sag.png'\n",
      "++ Writing one 1158x1158 image to filter '/usr/local/bin/pnmtopng -compression 9 > ../QC/sub-1289_ses-1_acq-mprage_run-001_T1w_qc_xlzd.cor.png'\n",
      "++ Writing one 1158x1374 image to filter '/usr/local/bin/pnmtopng -compression 9 > ../QC/sub-1289_ses-1_acq-mprage_run-001_T1w_qc_xlzd.axi.png'\n",
      "\n",
      "AFNI QUITTs!\n",
      "\\n+* Removing temporary image directory '../QC/__tmp_chauf_KNdIXz93qF9'.\\n\n",
      "[1]  + Done                          Xvfb :789 -screen 0 1024x768x24\n",
      "++ QC image 01 (earlier allin olaying ref ulay): sub-1289_ses-1_acq-mprage_run-001_T1w_qc_ref_in\n",
      "++ 3dedge3: AFNI version=AFNI_18.2.04 (Jul  6 2018) [64-bit]\n",
      "++ My command:\n",
      "   @chauffeur_afni -ulay REF.nii -ulay_range 2% 98% -olay ./tt_alnd_edges.nii -func_range_perc 50 -pbar_posonly -cbar red_monochrome -opacity 6 -prefix ../QC/sub-1289_ses-1_acq-mprage_run-001_T1w_qc_ref_in -montx 3 -monty 3 -set_xhairs MULTI -label_mode 1 -label_size 3 -do_clean\n",
      "\\n------------------ start of optionizing ------------------\\n\n",
      "++ Using blowup factor: 2\n",
      "++ Using opacity:  6\n",
      "++ Making temporary work directory to copy vis files: ../QC/__tmp_chauf_b9JY3uLlZJS\n",
      "++ Copying ulay to visualize (volumetric) within user's range:\n",
      "++ Copying ulay to visualize (volumetric) within user's range:\n",
      "  [2%,98%] -> [84.000000,236.000000]\n",
      "++ 3dcalc: AFNI version=AFNI_18.2.04 (Jul  6 2018) [64-bit]\n",
      "++ Authored by: A cast of thousands\n",
      "++ Output dataset ./../QC/__tmp_chauf_b9JY3uLlZJS/tmp_ulay.nii\n",
      "++ 3dcalc: AFNI version=AFNI_18.2.04 (Jul  6 2018) [64-bit]\n",
      "++ Authored by: A cast of thousands\n",
      "++ Output dataset ./../QC/__tmp_chauf_b9JY3uLlZJS/tmp_olay.nii\n",
      "++ User-entered function range value as percentile (50%)\n",
      "   --> Ergo, calculating FUNC_RANGE, getting: 362.797821\n",
      "   ----> ... noting that range of values is: [0, 1106.45]\n",
      "++ Cryptic info: LPI -> L P I -> 1 2 3\n",
      "++ Dimensions (xyzt): 193 229 193 1\n",
      "++ Slice spacing ordered (x,y,z) is:  21 25 21\n",
      "++ pfrac = .50000\n",
      "++ Will have: SET_IJK 96 114 96\n",
      "\\n------------------- end of optionizing -------------------\\n\n",
      " -- trying to start Xvfb :649\n",
      "[1] 45736\n",
      "Precompiled binary macosx_10.7_local: Jul  6 2018 (Version AFNI_18.2.04)\n",
      "\n",
      "+++ Command Echo:\n",
      "   afni -noplugins -no_detach -com SWITCH_UNDERLAY tmp_ulay.nii -com SWITCH_OVERLAY  tmp_olay.nii -com SEE_OVERLAY     + -com SET_PBAR_ALL    +99 1 red_monochrome -com SET_SUBBRICKS   -1 -1 -1 -com SET_FUNC_RANGE  362.797821 -com SET_THRESHNEW   0. * -com SET_FUNC_ALPHA  Off  -com SET_FUNC_RESAM  NN.NN -com SET_XHAIRS  MULTI -com OPEN_WINDOW sagittalimage opacity=6 mont=3x3:21 crop=0:0,0:0 -com OPEN_WINDOW coronalimage  opacity=6 mont=3x3:25 crop=0:0,0:0 -com OPEN_WINDOW axialimage    opacity=6 mont=3x3:21 crop=0:0,0:0 -com SET_IJK 96 114 96 -com SAVE_PNG sagittalimage ../QC/sub-1289_ses-1_acq-mprage_run-001_T1w_qc_ref_in.sag blowup=2 -com SAVE_PNG coronalimage  ../QC/sub-1289_ses-1_acq-mprage_run-001_T1w_qc_ref_in.cor blowup=2 -com SAVE_PNG axialimage    ../QC/sub-1289_ses-1_acq-mprage_run-001_T1w_qc_ref_in.axi blowup=2 -com QUITT ../QC/__tmp_chauf_b9JY3uLlZJS \n",
      "\n",
      "\n",
      "Thanks go to S Durgerian for \"quick\" questions\n",
      "\n",
      "Initializing: X11\n",
      "++ If you are using XQuartz 2.7.10 (or later), and AFNI crashes when\n",
      " + opening windows, or you cannot type text into AFNI popup windows,\n",
      " + you might need to set an environment variable to solve this problem:\n",
      " +   setenv DYLD_LIBRARY_PATH /opt/X11/lib/flat_namespace\n",
      " + This command is best put in your startup ~/.cshrc file, so that\n",
      " + it will be invoked for every (t)csh shell you open.\n",
      "\n",
      "[The X.Org Foundation v 11804000].. Widgets...... Input files:\n",
      " session #  1  = QC/__tmp_chauf_b9JY3uLlZJS/ ==> 2 datasets\n",
      " dataset count = 2\n",
      " Time series   = 5 files read\n",
      " Plugins       = 0 libraries read\n",
      "++ AFNI_IMAGE_GLOBALRANGE is no longer slice-based ==> reset image range to 0 .. 1106.45\n",
      "++ Writing one 1374x1158 image to filter '/usr/local/bin/pnmtopng -compression 9 > ../QC/sub-1289_ses-1_acq-mprage_run-001_T1w_qc_ref_in.sag.png'\n",
      "++ Writing one 1158x1158 image to filter '/usr/local/bin/pnmtopng -compression 9 > ../QC/sub-1289_ses-1_acq-mprage_run-001_T1w_qc_ref_in.cor.png'\n",
      "++ Writing one 1158x1374 image to filter '/usr/local/bin/pnmtopng -compression 9 > ../QC/sub-1289_ses-1_acq-mprage_run-001_T1w_qc_ref_in.axi.png'\n",
      "\n",
      "AFNI QUITTs!\n",
      "\\n+* Removing temporary image directory '../QC/__tmp_chauf_b9JY3uLlZJS'.\\n\n",
      "[1]    Done                          Xvfb :649 -screen 0 1024x768x24\n",
      "\\n+* Removing temporary axialization working dir: '/Users/rodgersleejg/Downloads/euler_number_prediction/template_dir/axialized_scans/__WORKING_axialize_anat_sub-1289_ses-1_acq-mprage_run-001_T1w'\\n\n",
      "\n",
      "++ DONE! View the finished, axialized product:\n",
      "     /Users/rodgersleejg/Downloads/euler_number_prediction/template_dir/axialized_scans/sub-1289_ses-1_acq-mprage_run-001_T1w.nii.gz\n",
      "\n"
     ]
    }
   ],
   "source": [
    "!{cmd}"
   ]
  },
  {
   "cell_type": "markdown",
   "metadata": {},
   "source": [
    "### Axialize using Dask"
   ]
  },
  {
   "cell_type": "code",
   "execution_count": 167,
   "metadata": {},
   "outputs": [],
   "source": [
    "from dask.distributed import Client, LocalCluster\n",
    "from dask import delayed\n",
    "import subprocess"
   ]
  },
  {
   "cell_type": "code",
   "execution_count": 139,
   "metadata": {},
   "outputs": [],
   "source": [
    "# cluster = LocalCluster(n_workers=1,threads_per_worker=2)\n",
    "client = Client(processes = False,\n",
    "    n_workers= 1,\n",
    "    threads_per_worker=2\n",
    "    )"
   ]
  },
  {
   "cell_type": "code",
   "execution_count": 170,
   "metadata": {},
   "outputs": [],
   "source": [
    "@delayed\n",
    "def run_cmd(cmd):\n",
    "    pp = subprocess.run(cmd,shell=True,stdout=subprocess.PIPE,stderr= subprocess.PIPE)\n",
    "    return pp\n",
    "\n",
    "    "
   ]
  },
  {
   "cell_type": "code",
   "execution_count": 171,
   "metadata": {},
   "outputs": [],
   "source": [
    "cmds = [make_fatproc_cmd(x,input_template,output_dir,sub_weight_template,project_dir_absolute) for x in scans.scan_path]\n",
    "graph = [run_cmd(cmd) for cmd in cmds]"
   ]
  },
  {
   "cell_type": "code",
   "execution_count": 172,
   "metadata": {},
   "outputs": [],
   "source": [
    "result = client.compute(graph)"
   ]
  },
  {
   "cell_type": "code",
   "execution_count": 187,
   "metadata": {},
   "outputs": [],
   "source": [
    "outputs = client.gather(result)"
   ]
  },
  {
   "cell_type": "markdown",
   "metadata": {},
   "source": [
    "### Inspecting output"
   ]
  },
  {
   "cell_type": "code",
   "execution_count": 193,
   "metadata": {},
   "outputs": [],
   "source": [
    "pickle.dump( outputs, open( output_dir / 'axialize_output.pklz', \"wb\" ) )"
   ]
  },
  {
   "cell_type": "code",
   "execution_count": 194,
   "metadata": {},
   "outputs": [],
   "source": [
    "# outputs_recovered = pickle.load( open( output_dir / 'axialize_output.pklz', \"rb\" ) )"
   ]
  },
  {
   "cell_type": "code",
   "execution_count": 182,
   "metadata": {},
   "outputs": [
    {
     "data": {
      "text/html": [
       "<b>Future: run_cmd</b> <font color=\"gray\">status: </font><font color=\"black\">finished</font>, <font color=\"gray\">type: </font>CompletedProcess, <font color=\"gray\">key: </font>run_cmd-44cfaaa4-95a0-409f-b8ee-a2e38f6d5a9b"
      ],
      "text/plain": [
       "<Future: status: finished, type: CompletedProcess, key: run_cmd-44cfaaa4-95a0-409f-b8ee-a2e38f6d5a9b>"
      ]
     },
     "execution_count": 182,
     "metadata": {},
     "output_type": "execute_result"
    }
   ],
   "source": [
    "result[0]\n"
   ]
  },
  {
   "cell_type": "code",
   "execution_count": 177,
   "metadata": {},
   "outputs": [
    {
     "data": {
      "text/html": [
       "<table style=\"border: 2px solid white;\">\n",
       "<tr>\n",
       "<td style=\"vertical-align: top; border: 0px solid white\">\n",
       "<h3>Client</h3>\n",
       "<ul>\n",
       "  <li><b>Scheduler: </b>inproc://10.0.0.9/36627/1\n",
       "  <li><b>Dashboard: </b><a href='http://localhost:8787/status' target='_blank'>http://localhost:8787/status</a>\n",
       "</ul>\n",
       "</td>\n",
       "<td style=\"vertical-align: top; border: 0px solid white\">\n",
       "<h3>Cluster</h3>\n",
       "<ul>\n",
       "  <li><b>Workers: </b>1</li>\n",
       "  <li><b>Cores: </b>2</li>\n",
       "  <li><b>Memory: </b>8.59 GB</li>\n",
       "</ul>\n",
       "</td>\n",
       "</tr>\n",
       "</table>"
      ],
      "text/plain": [
       "<Client: scheduler='inproc://10.0.0.9/36627/1' processes=1 cores=2>"
      ]
     },
     "execution_count": 177,
     "metadata": {},
     "output_type": "execute_result"
    }
   ],
   "source": [
    "client"
   ]
  },
  {
   "cell_type": "code",
   "execution_count": 184,
   "metadata": {},
   "outputs": [
    {
     "name": "stdout",
     "output_type": "stream",
     "text": [
      "QC/\n",
      "output_not_required+orig.BRIK\n",
      "output_not_required+orig.HEAD\n",
      "sub-0102_ses-1_acq-mprage_run-001_T1w.nii.gz\n",
      "sub-0102_ses-1_acq-mprage_run-001_T1w_12dof.param.1D\n",
      "sub-0102_ses-1_acq-mprage_run-001_T1w_cmd.txt\n",
      "sub-0150_ses-1_acq-mprage_run-001_T1w.nii.gz\n",
      "sub-0150_ses-1_acq-mprage_run-001_T1w_12dof.param.1D\n",
      "sub-0150_ses-1_acq-mprage_run-001_T1w_cmd.txt\n",
      "sub-0150_ses-1_acq-mprage_run-002_T1w.nii.gz\n"
     ]
    }
   ],
   "source": [
    "%ls {output_dir}|head"
   ]
  }
 ],
 "metadata": {
  "kernelspec": {
   "display_name": "Python 3",
   "language": "python",
   "name": "python3"
  },
  "language_info": {
   "codemirror_mode": {
    "name": "ipython",
    "version": 3
   },
   "file_extension": ".py",
   "mimetype": "text/x-python",
   "name": "python",
   "nbconvert_exporter": "python",
   "pygments_lexer": "ipython3",
   "version": "3.6.4"
  }
 },
 "nbformat": 4,
 "nbformat_minor": 2
}
