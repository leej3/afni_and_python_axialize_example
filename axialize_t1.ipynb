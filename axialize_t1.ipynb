{
 "cells": [
  {
   "cell_type": "markdown",
   "metadata": {},
   "source": [
    "# axialize scans"
   ]
  },
  {
   "cell_type": "code",
   "execution_count": 1,
   "metadata": {},
   "outputs": [],
   "source": [
    "from pathlib import Path\n",
    "import pandas as pd\n",
    "import numpy as np\n",
    "import re\n",
    "from distutils.spawn import find_executable\n",
    "pd.set_option('display.max_rows', 500)\n",
    "pd.set_option('display.max_columns', 500)\n",
    "pd.set_option('max_colwidth',500)"
   ]
  },
  {
   "cell_type": "code",
   "execution_count": 3,
   "metadata": {},
   "outputs": [
    {
     "name": "stdout",
     "output_type": "stream",
     "text": [
      "/Users/rodgersleejg/Downloads/euler_number_prediction\n"
     ]
    },
    {
     "data": {
      "text/plain": [
       "'/Users/rodgersleejg/Downloads/euler_number_prediction'"
      ]
     },
     "execution_count": 3,
     "metadata": {},
     "output_type": "execute_result"
    }
   ],
   "source": [
    "analysis_version = \"2018_07_03\"\n",
    "project_dir_absolute = Path('~/Downloads/euler_number_prediction').expanduser()\n",
    "%pwd\n",
    "%cd {project_dir_absolute}\n",
    "%pwd"
   ]
  },
  {
   "cell_type": "code",
   "execution_count": 5,
   "metadata": {},
   "outputs": [
    {
     "name": "stdout",
     "output_type": "stream",
     "text": [
      "\u001b[34mafni_and_python_axialize_example\u001b[m\u001b[m/ \u001b[34morig_mgz_scans\u001b[m\u001b[m/\n",
      "\u001b[31meuler_prediction.csv\u001b[m\u001b[m*             \u001b[30m\u001b[43morig_scans\u001b[m\u001b[m/\n",
      "load_volume_testing.ipynb\n"
     ]
    }
   ],
   "source": [
    "ls"
   ]
  },
  {
   "cell_type": "code",
   "execution_count": 6,
   "metadata": {},
   "outputs": [],
   "source": [
    "orig_scans  = project_dir_absolute / 'orig_scans'\n",
    "output_dir = project_dir_absolute / 'axialized_scans'\n",
    "afni_dir = Path('~').expanduser() / 'abin'\n",
    "if not afni_dir.exists():\n",
    "\n",
    "        afni_path = Path(find_executable('afni')).parent.parent\n",
    "        if not afni_path.exists():\n",
    "            raise EnvironmentError\n",
    "        else: \n",
    "            afni_dir = afni_path.parent\n",
    "        \n",
    "input_template  = afni_dir / 'MNI_2009c.nii.gz'"
   ]
  },
  {
   "cell_type": "code",
   "execution_count": 14,
   "metadata": {},
   "outputs": [
    {
     "data": {
      "text/plain": [
       "PosixPath('/Users/rodgersleejg/abin')"
      ]
     },
     "execution_count": 14,
     "metadata": {},
     "output_type": "execute_result"
    }
   ],
   "source": [
    "/Users/rodgersleejg/abin/"
   ]
  },
  {
   "cell_type": "code",
   "execution_count": 7,
   "metadata": {},
   "outputs": [],
   "source": [
    "scans = pd.DataFrame({'scan_path':[p.as_posix() for p in orig_scans.glob('*.nii.gz')]})"
   ]
  },
  {
   "cell_type": "code",
   "execution_count": 8,
   "metadata": {},
   "outputs": [
    {
     "data": {
      "text/html": [
       "<div>\n",
       "<style scoped>\n",
       "    .dataframe tbody tr th:only-of-type {\n",
       "        vertical-align: middle;\n",
       "    }\n",
       "\n",
       "    .dataframe tbody tr th {\n",
       "        vertical-align: top;\n",
       "    }\n",
       "\n",
       "    .dataframe thead th {\n",
       "        text-align: right;\n",
       "    }\n",
       "</style>\n",
       "<table border=\"1\" class=\"dataframe\">\n",
       "  <thead>\n",
       "    <tr style=\"text-align: right;\">\n",
       "      <th></th>\n",
       "      <th>scan_path</th>\n",
       "    </tr>\n",
       "  </thead>\n",
       "  <tbody>\n",
       "    <tr>\n",
       "      <th>0</th>\n",
       "      <td>/Users/rodgersleejg/Downloads/euler_number_prediction/orig_scans/sub-1289_ses-1_acq-mprage_run-001_T1w.nii.gz</td>\n",
       "    </tr>\n",
       "    <tr>\n",
       "      <th>1</th>\n",
       "      <td>/Users/rodgersleejg/Downloads/euler_number_prediction/orig_scans/sub-0414_ses-1_acq-mprage_run-002_T1w.nii.gz</td>\n",
       "    </tr>\n",
       "    <tr>\n",
       "      <th>2</th>\n",
       "      <td>/Users/rodgersleejg/Downloads/euler_number_prediction/orig_scans/sub-1223_ses-1_acq-mprage_run-001_T1w.nii.gz</td>\n",
       "    </tr>\n",
       "    <tr>\n",
       "      <th>3</th>\n",
       "      <td>/Users/rodgersleejg/Downloads/euler_number_prediction/orig_scans/sub-1360_ses-1_acq-mprage_run-002_T1w.nii.gz</td>\n",
       "    </tr>\n",
       "    <tr>\n",
       "      <th>4</th>\n",
       "      <td>/Users/rodgersleejg/Downloads/euler_number_prediction/orig_scans/sub-1491_ses-1_acq-mprage_run-002_T1w.nii.gz</td>\n",
       "    </tr>\n",
       "  </tbody>\n",
       "</table>\n",
       "</div>"
      ],
      "text/plain": [
       "                                                                                                       scan_path\n",
       "0  /Users/rodgersleejg/Downloads/euler_number_prediction/orig_scans/sub-1289_ses-1_acq-mprage_run-001_T1w.nii.gz\n",
       "1  /Users/rodgersleejg/Downloads/euler_number_prediction/orig_scans/sub-0414_ses-1_acq-mprage_run-002_T1w.nii.gz\n",
       "2  /Users/rodgersleejg/Downloads/euler_number_prediction/orig_scans/sub-1223_ses-1_acq-mprage_run-001_T1w.nii.gz\n",
       "3  /Users/rodgersleejg/Downloads/euler_number_prediction/orig_scans/sub-1360_ses-1_acq-mprage_run-002_T1w.nii.gz\n",
       "4  /Users/rodgersleejg/Downloads/euler_number_prediction/orig_scans/sub-1491_ses-1_acq-mprage_run-002_T1w.nii.gz"
      ]
     },
     "execution_count": 8,
     "metadata": {},
     "output_type": "execute_result"
    }
   ],
   "source": [
    "scans.head()\n"
   ]
  },
  {
   "cell_type": "code",
   "execution_count": 9,
   "metadata": {},
   "outputs": [
    {
     "data": {
      "text/plain": [
       "'/Users/rodgersleejg/Downloads/euler_number_prediction/orig_scans/sub-1289_ses-1_acq-mprage_run-001_T1w.nii.gz'"
      ]
     },
     "execution_count": 9,
     "metadata": {},
     "output_type": "execute_result"
    }
   ],
   "source": [
    "scan_path = scans.scan_path.iloc[0]\n",
    "\n",
    "scan_path"
   ]
  },
  {
   "cell_type": "code",
   "execution_count": 11,
   "metadata": {},
   "outputs": [
    {
     "data": {
      "text/plain": [
       "'fat_proc_axialize_anat    -inset  /Users/rodgersleejg/Downloads/euler_number_prediction/orig_scans/sub-1289_ses-1_acq-mprage_run-001_T1w.nii.gz    -prefix /Users/rodgersleejg/Downloads/euler_number_prediction/axialized_scans/sub-1289_ses-1_acq-mprage_run-001_T1w    -mode_t1w    -refset          /Users/rodgersleejg/abin/MNI_2009c.nii.gz    -out_match_ref'"
      ]
     },
     "execution_count": 11,
     "metadata": {},
     "output_type": "execute_result"
    }
   ],
   "source": [
    "# I/O path, same as above; just need the \"proc\" dirs now\n",
    "path_P_ss = orig_scans\n",
    "\n",
    "# reference anatomical volumes to which we axialize\n",
    "here       = project_dir_absolute\n",
    "ref_t1w    = input_template\n",
    "# ref_t1w_wt = assert False\n",
    "\n",
    "cmd = f\"\"\"\\\n",
    "fat_proc_axialize_anat\\\n",
    "    -inset  {scan_path}\\\n",
    "    -prefix {output_dir / Path(scan_path).name.split('.')[0]}\\\n",
    "    -mode_t1w\\\n",
    "    -refset          {ref_t1w}\\\n",
    "    -out_match_ref\\\n",
    "\"\"\"\n",
    "cmd"
   ]
  },
  {
   "cell_type": "code",
   "execution_count": 12,
   "metadata": {},
   "outputs": [
    {
     "name": "stdout",
     "output_type": "stream",
     "text": [
      "++ Start script version: 3.9\n",
      "++ 3dinfo: AFNI version=AFNI_18.1.09 (Apr 30 2018) [64-bit]\n",
      "** AFNI converts NIFTI_datatype=4 (INT16) in file /Users/rodgersleejg/Downloads/euler_number_prediction/orig_scans/sub-1289_ses-1_acq-mprage_run-001_T1w.nii.gz to FLOAT32\n",
      "     Warnings of this type will be muted for this session.\n",
      "     Set AFNI_NIFTI_TYPE_WARN to YES to see them all, NO to see none.\n",
      "118\n",
      "++ 3dinfo: AFNI version=AFNI_18.1.09 (Apr 30 2018) [64-bit]\n",
      "** AFNI converts NIFTI_datatype=4 (INT16) in file /Users/rodgersleejg/Downloads/euler_number_prediction/orig_scans/sub-1289_ses-1_acq-mprage_run-001_T1w.nii.gz to FLOAT32\n",
      "     Warnings of this type will be muted for this session.\n",
      "     Set AFNI_NIFTI_TYPE_WARN to YES to see them all, NO to see none.\n",
      "++ Found input file:   /Users/rodgersleejg/Downloads/euler_number_prediction/orig_scans/sub-1289_ses-1_acq-mprage_run-001_T1w.nii.gz\n",
      "++ 3dinfo: AFNI version=AFNI_18.1.09 (Apr 30 2018) [64-bit]\n",
      "** ERROR (nifti_image_read): failed to find header file for '/Users/rodgersleejg/abin/MNI_2009c.nii.gz'\n",
      "\u001b[7m** FATAL ERROR:\u001b[0m Can't open dataset /Users/rodgersleejg/abin/MNI_2009c.nii.gz\n",
      "** Program compile date = Apr 30 2018\n",
      "** ERROR: can't find input file:  /Users/rodgersleejg/abin/MNI_2009c.nii.gz !\n"
     ]
    }
   ],
   "source": [
    "!{cmd}"
   ]
  },
  {
   "cell_type": "code",
   "execution_count": null,
   "metadata": {},
   "outputs": [],
   "source": []
  },
  {
   "cell_type": "code",
   "execution_count": null,
   "metadata": {},
   "outputs": [],
   "source": []
  }
 ],
 "metadata": {
  "kernelspec": {
   "display_name": "Python 3",
   "language": "python",
   "name": "python3"
  },
  "language_info": {
   "codemirror_mode": {
    "name": "ipython",
    "version": 3
   },
   "file_extension": ".py",
   "mimetype": "text/x-python",
   "name": "python",
   "nbconvert_exporter": "python",
   "pygments_lexer": "ipython3",
   "version": "3.6.4"
  }
 },
 "nbformat": 4,
 "nbformat_minor": 2
}
